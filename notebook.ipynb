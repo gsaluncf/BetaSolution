{
 "cells": [
  {
   "cell_type": "code",
   "execution_count": null,
   "metadata": {
    "collapsed": true
   },
   "outputs": [],
   "source": []
  },
  {
   "cell_type": "code",
   "execution_count": null,
   "outputs": [],
   "source": [
    "APP = create_app()\n",
    "\n",
    "if __name__ == '__main__':\n",
    "    ranGuess = random.randint(2, 100)\n",
    "    port = 8081\n",
    "    url_to_test = \"http://127.0.0.1:\" + str(port) + \"/BetaREST/AAPL/\" + str(ranGuess)\n",
    "    print(\"goto \", url_to_test, \" to test\")\n",
    "    APP.run(debug=True, port=8081)\n"
   ],
   "metadata": {
    "collapsed": false
   }
  }
 ],
 "metadata": {
  "kernelspec": {
   "display_name": "Python 3",
   "language": "python",
   "name": "python3"
  },
  "language_info": {
   "codemirror_mode": {
    "name": "ipython",
    "version": 2
   },
   "file_extension": ".py",
   "mimetype": "text/x-python",
   "name": "python",
   "nbconvert_exporter": "python",
   "pygments_lexer": "ipython2",
   "version": "2.7.6"
  }
 },
 "nbformat": 4,
 "nbformat_minor": 0
}
